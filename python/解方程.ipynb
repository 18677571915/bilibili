{
 "cells": [
  {
   "cell_type": "code",
   "execution_count": 1,
   "metadata": {},
   "outputs": [],
   "source": [
    "import numpy as np\n",
    "import matplotlib.pyplot as plt"
   ]
  },
  {
   "cell_type": "code",
   "execution_count": 2,
   "metadata": {},
   "outputs": [],
   "source": [
    "def getlr(index):# 得到每个零点的左右索引，然后取其中值\n",
    "    newindex=[]\n",
    "    for i in index[0]:\n",
    "        if i == index[0,0]:\n",
    "            lasti=i\n",
    "            newindex.append(i)\n",
    "            continue\n",
    "        else:\n",
    "            if i==lasti+1:#如果是连贯的\n",
    "                lasti=i\n",
    "            else:#如果已经断开了，就取上一个\n",
    "                newindex.append(lasti)\n",
    "                lasti = i\n",
    "                newindex.append(i)\n",
    "    newindex.append(index[0,-1])\n",
    "    newindex = np.array(newindex)\n",
    "    newindex = newindex.reshape((-1,2))\n",
    "    new = []\n",
    "    for i in newindex:\n",
    "        new.append(int((i[0]+i[1])/2))\n",
    "    return new"
   ]
  },
  {
   "cell_type": "code",
   "execution_count": 3,
   "metadata": {},
   "outputs": [
    {
     "data": {
      "image/png": "[encoded data removed]",
      "text/plain": [
       "<Figure size 432x288 with 1 Axes>"
      ]
     },
     "metadata": {
      "needs_background": "light"
     },
     "output_type": "display_data"
    },
    {
     "name": "stdout",
     "output_type": "stream",
     "text": [
      "零点坐标为 [-2.23522352  2.23522352]\n"
     ]
    }
   ],
   "source": [
    "def getroot(r=np.linspace(-30,30,10000),f = pow(np.linspace(-30,30,10000),2)-5):\n",
    "    zero = r*0\n",
    "    plt.plot(r,f,r,zero)\n",
    "    plt.show()\n",
    "    index = np.array(np.where(abs(f)<0.1))\n",
    "    new = getlr(index)\n",
    "    print('零点坐标为',r[new])\n",
    "    return r[new]\n",
    "\n",
    "a=getroot()"
   ]
  }
 ],
 "metadata": {
  "kernelspec": {
   "display_name": "Python 3",
   "language": "python",
   "name": "python3"
  },
  "language_info": {
   "codemirror_mode": {
    "name": "ipython",
    "version": 3
   },
   "file_extension": ".py",
   "mimetype": "text/x-python",
   "name": "python",
   "nbconvert_exporter": "python",
   "pygments_lexer": "ipython3",
   "version": "3.6.5"
  }
 },
 "nbformat": 4,
 "nbformat_minor": 2
}
