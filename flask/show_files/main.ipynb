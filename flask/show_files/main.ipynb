{
 "cells": [
  {
   "cell_type": "code",
   "execution_count": 1,
   "metadata": {},
   "outputs": [],
   "source": [
    "from flask import Flask, request, render_template, redirect,url_for,flash\n",
    "import time\n",
    "import os\n",
    "import sqlite3 # 导入sqlit3库"
   ]
  },
  {
   "cell_type": "code",
   "execution_count": 2,
   "metadata": {},
   "outputs": [],
   "source": [
    "# 文件上传的地址\n",
    "saved_path = 'static/files'\n",
    "app = Flask(__name__)"
   ]
  },
  {
   "cell_type": "code",
   "execution_count": 3,
   "metadata": {},
   "outputs": [],
   "source": [
    "data_base=sqlite3.connect('reocords', check_same_thread=False)\n",
    "cursor=data_base.cursor()\n",
    "cursor.execute('create table if not exists uploads(info text)')\n",
    "data_base.commit()"
   ]
  },
  {
   "cell_type": "code",
   "execution_count": 4,
   "metadata": {},
   "outputs": [],
   "source": [
    "def getrecords():\n",
    "    cursor.execute('select * from uploads')\n",
    "    results=cursor.fetchall()\n",
    "    records=[]\n",
    "    for r in results:\n",
    "        records.append(eval(r[0]))\n",
    "    return records"
   ]
  },
  {
   "cell_type": "code",
   "execution_count": 5,
   "metadata": {},
   "outputs": [],
   "source": [
    "@app.route('/', methods=['GET', 'POST'])\n",
    "def index():\n",
    "    if request.method == 'GET':\n",
    "        records=getrecords()\n",
    "        # print(records)\n",
    "        return render_template('index.html',records=records[::-1])\n",
    "\n",
    "    else:#post方法\n",
    "        scon = request.form.get('scon')\n",
    "        target = []\n",
    "        # 搜索云端是否有该文件，罗列所有相关的\n",
    "        records=getrecords()\n",
    "        for record in records:\n",
    "            # print(record['filename'])\n",
    "            if scon in record['filename']:\n",
    "                target.append(record)\n",
    "        if target==[]:#没有找到相关文件\n",
    "            flash('没有找到相关文件！')\n",
    "            return render_template('index.html',records=records[::-1])\n",
    "        else:\n",
    "            return render_template('index.html',records=target[::-1])"
   ]
  },
  {
   "cell_type": "code",
   "execution_count": 6,
   "metadata": {},
   "outputs": [],
   "source": [
    "@app.route('/upload', methods=['GET', 'POST'])\n",
    "def upload_file():\n",
    "    if request.method == 'POST':\n",
    "        file = request.files['file']\n",
    "        if file:\n",
    "            filename = file.filename.rsplit('.', 1)[0]\n",
    "            filetype = file.filename.rsplit('.', 1)[1]\n",
    "            filename = filename.replace(' ','') # 将文件名中的空格去除\n",
    "            filename = filename.replace('.','-') # 去除文件中的.\n",
    "            filename = filename+'.'+filetype\n",
    "            # 解决命名冲突的问题\n",
    "            records=getrecords()\n",
    "            for record in records:\n",
    "                if filename==record['filename']:\n",
    "                    flash('该文件已经存在！')\n",
    "                    return render_template('upload.html')\n",
    "            # ----------\n",
    "            file.save(os.path.join(saved_path, filename))\n",
    "            date = time.strftime('%Y-%m-%d %H:%M:%S', time.localtime())\n",
    "            record = {\"filename\": filename, \"date\": date}\n",
    "            # print(record)\n",
    "            # 更新本地记录\n",
    "            cursor.execute('insert into uploads (info) VALUES (\\\"%s\\\")'%(record))\n",
    "            data_base.commit()\n",
    "            return redirect(url_for('index'))\n",
    "    return render_template('upload.html')"
   ]
  },
  {
   "cell_type": "code",
   "execution_count": 7,
   "metadata": {},
   "outputs": [],
   "source": [
    "@app.route(\"/<filename>\", methods=['GET'])\n",
    "def classify(filename):\n",
    "    path = \"../\"+saved_path+\"/\"+filename\n",
    "    filetype=filename.split(\".\",-1)[-1]\n",
    "    if filetype == 'pdf':\n",
    "        return render_template('pdf.html',path=path)\n",
    "    elif filetype in {'png','jpg','jpeg','tiff'}:\n",
    "        return render_template('img.html',path=path)\n",
    "    elif filetype == 'mp4':\n",
    "        return render_template('vedio.html',path=path)\n",
    "    elif filetype == {'mp3','m4a'}:\n",
    "        return render_template('audio.html',path=path)\n",
    "    else:\n",
    "        return render_template('player.html',path=path)"
   ]
  },
  {
   "cell_type": "code",
   "execution_count": 8,
   "metadata": {
    "scrolled": false
   },
   "outputs": [
    {
     "name": "stdout",
     "output_type": "stream",
     "text": [
      " * Serving Flask app \"__main__\" (lazy loading)\n",
      " * Environment: production\n",
      "   WARNING: This is a development server. Do not use it in a production deployment.\n",
      "   Use a production WSGI server instead.\n",
      " * Debug mode: off\n"
     ]
    },
    {
     "name": "stderr",
     "output_type": "stream",
     "text": [
      " * Running on http://0.0.0.0:5000/ (Press CTRL+C to quit)\n",
      "127.0.0.1 - - [26/Mar/2020 11:57:45] \"\u001b[37mGET /三十年，中国工业软件从欣欣向荣到溃不成军.mp4 HTTP/1.1\u001b[0m\" 200 -\n",
      "127.0.0.1 - - [26/Mar/2020 11:57:45] \"\u001b[37mGET /html5media.min.js HTTP/1.1\u001b[0m\" 200 -\n",
      "127.0.0.1 - - [26/Mar/2020 11:57:45] \"\u001b[37mGET /static/files/三十年，中国工业软件从欣欣向荣到溃不成军.mp4 HTTP/1.1\u001b[0m\" 200 -\n",
      "127.0.0.1 - - [26/Mar/2020 11:57:49] \"\u001b[37mGET /魏武挥鞭（1）大江东去.m4a HTTP/1.1\u001b[0m\" 200 -\n",
      "127.0.0.1 - - [26/Mar/2020 11:57:50] \"\u001b[37mGET /html5media.min.js HTTP/1.1\u001b[0m\" 200 -\n",
      "127.0.0.1 - - [26/Mar/2020 11:57:50] \"\u001b[37mGET /static/files/魏武挥鞭（1）大江东去.m4a HTTP/1.1\u001b[0m\" 200 -\n",
      "127.0.0.1 - - [26/Mar/2020 11:57:50] \"\u001b[37mGET /static/files/魏武挥鞭（1）大江东去.m4a HTTP/1.1\u001b[0m\" 200 -\n",
      "127.0.0.1 - - [26/Mar/2020 11:57:50] \"\u001b[37mGET /static/files/魏武挥鞭（1）大江东去.m4a HTTP/1.1\u001b[0m\" 206 -\n",
      "127.0.0.1 - - [26/Mar/2020 11:58:01] \"\u001b[37mGET /P81001-100257.jpg HTTP/1.1\u001b[0m\" 200 -\n",
      "127.0.0.1 - - [26/Mar/2020 11:58:01] \"\u001b[37mGET /html5media.min.js HTTP/1.1\u001b[0m\" 200 -\n",
      "127.0.0.1 - - [26/Mar/2020 11:58:06] \"\u001b[37mGET /机械制造工艺学--王先逵.pdf HTTP/1.1\u001b[0m\" 200 -\n",
      "127.0.0.1 - - [26/Mar/2020 11:58:06] \"\u001b[37mGET /html5media.min.js HTTP/1.1\u001b[0m\" 200 -\n",
      "127.0.0.1 - - [26/Mar/2020 11:58:11] \"\u001b[37mGET /机制工艺1.ppt HTTP/1.1\u001b[0m\" 200 -\n",
      "127.0.0.1 - - [26/Mar/2020 11:58:11] \"\u001b[37mGET /html5media.min.js HTTP/1.1\u001b[0m\" 200 -\n",
      "127.0.0.1 - - [26/Mar/2020 11:58:21] \"\u001b[37mGET / HTTP/1.1\u001b[0m\" 200 -\n"
     ]
    }
   ],
   "source": [
    "if __name__ == '__main__':\n",
    "    app.run(host='0.0.0.0',threaded=True,port=5000)"
   ]
  },
  {
   "cell_type": "code",
   "execution_count": null,
   "metadata": {},
   "outputs": [],
   "source": []
  }
 ],
 "metadata": {
  "kernelspec": {
   "display_name": "Python 3",
   "language": "python",
   "name": "python3"
  },
  "language_info": {
   "codemirror_mode": {
    "name": "ipython",
    "version": 3
   },
   "file_extension": ".py",
   "mimetype": "text/x-python",
   "name": "python",
   "nbconvert_exporter": "python",
   "pygments_lexer": "ipython3",
   "version": "3.7.2"
  }
 },
 "nbformat": 4,
 "nbformat_minor": 2
}
