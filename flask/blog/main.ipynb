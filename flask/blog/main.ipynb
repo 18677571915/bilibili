{
 "cells": [
  {
   "cell_type": "code",
   "execution_count": 1,
   "metadata": {},
   "outputs": [],
   "source": [
    "from flask import Flask, request, render_template, redirect,url_for,make_response,send_from_directory, session, Markup\n",
    "from gevent import pywsgi\n",
    "import os, time, markdown, sqlite3"
   ]
  },
  {
   "cell_type": "code",
   "execution_count": 2,
   "metadata": {},
   "outputs": [],
   "source": [
    "app = Flask(__name__)\n",
    "app.config['SECRET_KEY'] = os.urandom(24)\n",
    "app.config['FILE_PATH'] = 'static/passages/'"
   ]
  },
  {
   "cell_type": "code",
   "execution_count": 3,
   "metadata": {},
   "outputs": [],
   "source": [
    "#md转html的方法 \n",
    "def md2html(filename):\n",
    "    exts = ['markdown.extensions.extra', 'markdown.extensions.codehilite','markdown.extensions.tables','markdown.extensions.toc']\n",
    "    mdcontent = \"\"\n",
    "    with open(filename,'r',encoding='utf-8') as f:\n",
    "        mdcontent = f.read()\n",
    "        pass\n",
    "    html = markdown.markdown(mdcontent,extensions=exts)\n",
    "    content = Markup(html)\n",
    "    return content"
   ]
  },
  {
   "cell_type": "code",
   "execution_count": 4,
   "metadata": {},
   "outputs": [],
   "source": [
    "database=sqlite3.connect('database')\n",
    "cursor=database.cursor()\n",
    "cursor.execute('create table if not exists ttou(title text,category text,url text,time text, cover text)')\n",
    "database.commit()"
   ]
  },
  {
   "cell_type": "code",
   "execution_count": 5,
   "metadata": {},
   "outputs": [],
   "source": [
    "@app.route('/', methods=['GET'])\n",
    "def index():\n",
    "    database=sqlite3.connect('database')\n",
    "    cursor=database.cursor()\n",
    "    cursor.execute('select * from ttou')\n",
    "    records = cursor.fetchall()\n",
    "    categories = []\n",
    "    for i in records:\n",
    "        if i[1] not in categories:\n",
    "            categories.append(i[1])\n",
    "    return render_template('index.html', category = categories, records=records)"
   ]
  },
  {
   "cell_type": "code",
   "execution_count": 6,
   "metadata": {},
   "outputs": [],
   "source": [
    "@app.route('/<category>', methods=['GET'])\n",
    "def category(category):\n",
    "    database=sqlite3.connect('database')\n",
    "    cursor=database.cursor()\n",
    "    cursor.execute('select * from ttou')\n",
    "    records = cursor.fetchall()\n",
    "    passages = []\n",
    "    categories = []\n",
    "    for i in records:\n",
    "        if i[1] == category:\n",
    "            passages.append(i)\n",
    "        if i[1] not in categories:\n",
    "            categories.append(i[1])\n",
    "    return render_template('category.html', category = categories, records=passages)"
   ]
  },
  {
   "cell_type": "code",
   "execution_count": 7,
   "metadata": {},
   "outputs": [],
   "source": [
    "@app.route('/login', methods=['GET','POST'])\n",
    "def login():\n",
    "    if request.method == 'GET':\n",
    "        return render_template('login.html')\n",
    "    elif request.method == 'POST':\n",
    "        username = request.form.get('username')\n",
    "        password = request.form.get('password')\n",
    "        session['username'] = username\n",
    "        session['password'] = password\n",
    "        if (session.get('username')=='lankning') and (session.get('password')=='123456'):\n",
    "            return redirect(url_for(\"admin\"))\n",
    "        else:\n",
    "            return redirect(url_for(\"login\"))"
   ]
  },
  {
   "cell_type": "code",
   "execution_count": 8,
   "metadata": {},
   "outputs": [],
   "source": [
    "@app.route('/admin', methods=['GET','POST'])\n",
    "def admin():\n",
    "    if request.method == 'GET':\n",
    "        if (session.get('username')=='lankning') and (session.get('password')=='123456'):\n",
    "            return render_template('admin.html')\n",
    "        else:\n",
    "            return redirect(url_for(\"login\"))\n",
    "    elif request.method == 'POST':\n",
    "        page = request.form.get('button')\n",
    "        # print(page)\n",
    "        return redirect(url_for(page))"
   ]
  },
  {
   "cell_type": "code",
   "execution_count": 9,
   "metadata": {},
   "outputs": [],
   "source": [
    "@app.route('/admin/modify', methods=['GET','POST'])\n",
    "def modify():\n",
    "    if request.method == 'GET':\n",
    "        if (session.get('username')=='lankning') and (session.get('password')=='123456'):\n",
    "            database=sqlite3.connect('database')\n",
    "            cursor=database.cursor()\n",
    "            cursor.execute('select * from ttou')\n",
    "            records = cursor.fetchall()\n",
    "            return render_template('modify.html',records=records)\n",
    "        else:\n",
    "            return redirect(url_for(\"login\"))\n",
    "    elif request.method == 'POST':\n",
    "        title = request.form.get('delete')\n",
    "        database=sqlite3.connect('database')\n",
    "        cursor=database.cursor()\n",
    "        cursor.execute('select * from ttou')\n",
    "        records=cursor.fetchall()\n",
    "        for i in records:\n",
    "            if i[0]==title:\n",
    "                category = i[1]\n",
    "        os.remove(os.path.join(app.config['FILE_PATH'],category,title+'.md'))\n",
    "        # print(title,category,'deleted')\n",
    "        cursor.execute('DELETE FROM ttou WHERE title=\\\"%s\\\"' % title)\n",
    "        database.commit()\n",
    "        return redirect(url_for(\"modify\"))"
   ]
  },
  {
   "cell_type": "code",
   "execution_count": 10,
   "metadata": {},
   "outputs": [],
   "source": [
    "@app.route('/admin/new', methods=['GET','POST'])\n",
    "def new():\n",
    "    if request.method == 'GET':\n",
    "        if (session.get('username')=='lankning') and (session.get('password')=='123456'):\n",
    "            return render_template('new.html')\n",
    "        else:\n",
    "            return redirect(url_for(\"login\"))\n",
    "    elif request.method == 'POST':\n",
    "        title = request.form.get('title')\n",
    "        category = request.form.get('category')\n",
    "        text = request.form.get('text')\n",
    "        if request.form.get('time')=='Default':\n",
    "            localtime = time.asctime( time.localtime(time.time()) )\n",
    "        else:\n",
    "            localtime =  request.form.get('time')\n",
    "        cover =  request.form.get('cover')\n",
    "        context = '# '+title+'\\n'+text+'\\n'+localtime\n",
    "#         print(context)\n",
    "        catepath = os.path.join(app.config['FILE_PATH'],category)\n",
    "        if not os.path.exists(catepath):#判断存放图片的文件夹是否存在\n",
    "            os.makedirs(catepath) # 若图片文件夹不存在就创建\n",
    "        with open('%s.md'% (os.path.join(catepath,title)), \"w+\",encoding='utf-8') as m:\n",
    "            m.write(context)\n",
    "        target = category+'+'+title\n",
    "        database=sqlite3.connect('database')\n",
    "        cursor=database.cursor()\n",
    "        cursor.execute('insert into ttou (title,category,url,time,cover) VALUES (\\\"%s\\\",\\\"%s\\\",\\\"%s\\\",\\\"%s\\\",\\\"%s\\\")' \n",
    "                       %(title,category,target,time,cover))\n",
    "        database.commit()\n",
    "        return redirect(url_for(\"read\",target=target))"
   ]
  },
  {
   "cell_type": "code",
   "execution_count": 11,
   "metadata": {},
   "outputs": [],
   "source": [
    "@app.route('/read/<target>', methods=['GET'])\n",
    "def read(target):\n",
    "#     print(target)\n",
    "    database=sqlite3.connect('database')\n",
    "    cursor=database.cursor()\n",
    "    cursor.execute('select * from ttou')\n",
    "    records = cursor.fetchall()\n",
    "    categories = []\n",
    "    for i in records:\n",
    "        if i[1] not in categories:\n",
    "            categories.append(i[1])\n",
    "    target = target.replace('+','/')\n",
    "    html = md2html('%s.md'% (os.path.join(app.config['FILE_PATH'],target)))\n",
    "    return render_template('read.html',content = html, category = categories, records=records)"
   ]
  },
  {
   "cell_type": "code",
   "execution_count": null,
   "metadata": {},
   "outputs": [
    {
     "name": "stderr",
     "output_type": "stream",
     "text": [
      "127.0.0.1 - - [2020-07-08 13:36:57] \"GET /read/%E5%AD%A6%E7%A7%91%E7%AC%94%E8%AE%B0+%E5%85%88%E8%BF%9B%E5%88%B6%E9%80%A0%E6%8A%80%E6%9C%AF%E8%AF%BE%E7%A8%8B%E7%AC%94%E8%AE%B0 HTTP/1.1\" 200 13846 0.061837\n",
      "127.0.0.1 - - [2020-07-08 13:36:57] \"GET /static/default.css HTTP/1.1\" 404 356 0.002991\n",
      "127.0.0.1 - - [2020-07-08 13:36:57] \"GET /static/github.css HTTP/1.1\" 404 356 0.001993\n",
      "127.0.0.1 - - [2020-07-08 13:37:10] \"GET /static/default.css HTTP/1.1\" 404 356 0.000999\n",
      "127.0.0.1 - - [2020-07-08 13:37:10] \"GET /static/github.css HTTP/1.1\" 404 356 0.000997\n"
     ]
    }
   ],
   "source": [
    "if __name__ == '__main__':\n",
    "    port=5000\n",
    "    server = pywsgi.WSGIServer(('0.0.0.0', port), app)\n",
    "    server.serve_forever()"
   ]
  }
 ],
 "metadata": {
  "kernelspec": {
   "display_name": "Python 3",
   "language": "python",
   "name": "python3"
  },
  "language_info": {
   "codemirror_mode": {
    "name": "ipython",
    "version": 3
   },
   "file_extension": ".py",
   "mimetype": "text/x-python",
   "name": "python",
   "nbconvert_exporter": "python",
   "pygments_lexer": "ipython3",
   "version": "3.7.2"
  }
 },
 "nbformat": 4,
 "nbformat_minor": 4
}
